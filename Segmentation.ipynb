{
 "cells": [
  {
   "cell_type": "markdown",
   "metadata": {},
   "source": [
    "B051  \n",
    "Ved Naik  \n",
    "B1 Batch  \n",
    "Lab 8"
   ]
  },
  {
   "cell_type": "markdown",
   "metadata": {},
   "source": [
    "Aim : To segment objects in the image using region growing method"
   ]
  },
  {
   "cell_type": "code",
   "execution_count": 1,
   "metadata": {},
   "outputs": [],
   "source": [
    "import numpy as np\n",
    "import matplotlib.pyplot as plt"
   ]
  },
  {
   "cell_type": "code",
   "execution_count": 7,
   "metadata": {},
   "outputs": [],
   "source": [
    "image = np.array([[1,5,0,3,9],[5,7,5,2,6],[0,6,0,5,0],[1,5,1,3,8]])  # imshow is 8 bit but greater than 8 bit is normalized\n",
    "mx = np.max(np.max(image))   # max from each col and we get 4 rows with 1 column and then again max as 1 element"
   ]
  },
  {
   "cell_type": "code",
   "execution_count": 8,
   "metadata": {},
   "outputs": [
    {
     "data": {
      "text/plain": [
       "<matplotlib.image.AxesImage at 0x1c1405d8910>"
      ]
     },
     "execution_count": 8,
     "metadata": {},
     "output_type": "execute_result"
    },
    {
     "data": {
      "image/png": "[encoded data removed]",
      "text/plain": [
       "<Figure size 432x288 with 1 Axes>"
      ]
     },
     "metadata": {
      "needs_background": "light"
     },
     "output_type": "display_data"
    }
   ],
   "source": [
    "plt.imshow(image,cmap='gray')"
   ]
  },
  {
   "cell_type": "code",
   "execution_count": 9,
   "metadata": {},
   "outputs": [
    {
     "data": {
      "text/plain": [
       "9"
      ]
     },
     "execution_count": 9,
     "metadata": {},
     "output_type": "execute_result"
    }
   ],
   "source": [
    "mx"
   ]
  },
  {
   "cell_type": "code",
   "execution_count": 22,
   "metadata": {},
   "outputs": [],
   "source": [
    "def dist(a,b):\n",
    "    return np.abs(a-b)   # absolute value (modulus)\n",
    "\n",
    "def region_grow(img,img_g,threshold,seed):  #  g is grwoing initialized all values with 0\n",
    "    rw=seed[0]\n",
    "    cl=seed[1]\n",
    "    px=img[rw,cl]\n",
    "    img_g[rw,cl]=1\n",
    "    [rows,cols]=img.shape\n",
    "    \n",
    "    if (cl+1<cols and img_g[rw,cl+1]==0 and dist(px,img[rw,cl+1])<=threshold):\n",
    "        region_grow(img,img_g,threshold,[rw,cl+1])\n",
    "    \n",
    "    if (cl-1>=0 and img_g[rw,cl-1]==0 and dist(px,img[rw,cl-1])<=threshold):\n",
    "        region_grow(img,img_g,threshold,[rw,cl-1])\n",
    "        \n",
    "    if (rw+1<rows and img_g[rw+1,cl]==0 and dist(px,img[rw+1,cl])<=threshold):\n",
    "        region_grow(img,img_g,threshold,[rw+1,cl])\n",
    "    \n",
    "    if (rw-1>=0 and img_g[rw-1,cl]==0 and dist(px,img[rw-1,cl])<=threshold):\n",
    "        region_grow(img,img_g,threshold,[rw-1,cl])\n",
    "    \n",
    "t=2\n",
    "seed=[1,1]\n",
    "img_seg = np.zeros(image.shape)\n",
    "region_grow(image,img_seg,t,seed)"
   ]
  },
  {
   "cell_type": "code",
   "execution_count": 23,
   "metadata": {},
   "outputs": [
    {
     "data": {
      "text/plain": [
       "<matplotlib.image.AxesImage at 0x1c140b3b5e0>"
      ]
     },
     "execution_count": 23,
     "metadata": {},
     "output_type": "execute_result"
    },
    {
     "data": {
      "image/png": "[encoded data removed]",
      "text/plain": [
       "<Figure size 504x504 with 2 Axes>"
      ]
     },
     "metadata": {
      "needs_background": "light"
     },
     "output_type": "display_data"
    }
   ],
   "source": [
    "plt.figure(figsize=(7,7))\n",
    "plt.subplot(1,2,1)\n",
    "plt.title(\"Orignal Image\")\n",
    "plt.imshow(image,cmap = 'gray')\n",
    "plt.subplot(1,2,2)\n",
    "plt.title('Segmented Image')\n",
    "plt.imshow(img_seg,cmap='gray')\n",
    "\n",
    "# Segmented image has only 2 values 0 and 1 so pyhton automatically converts it to binary "
   ]
  },
  {
   "cell_type": "code",
   "execution_count": 26,
   "metadata": {},
   "outputs": [],
   "source": [
    "image_grown = image.copy()\n",
    "rows,cols = image.shape"
   ]
  },
  {
   "cell_type": "code",
   "execution_count": 27,
   "metadata": {},
   "outputs": [],
   "source": [
    "for r in range(rows):\n",
    "    for c in range(cols):\n",
    "        if(img_seg[r,c]==1):\n",
    "            image_grown[r,c]=mx\n",
    "            # here we took mx as segmented image was binary so 1 is white but our orignal image is 8 bit gray so\n",
    "            # if we take = 1 then pixel will be black but we want white so we take mx"
   ]
  },
  {
   "cell_type": "code",
   "execution_count": 30,
   "metadata": {},
   "outputs": [
    {
     "data": {
      "text/plain": [
       "<matplotlib.image.AxesImage at 0x1c140bc8a90>"
      ]
     },
     "execution_count": 30,
     "metadata": {},
     "output_type": "execute_result"
    },
    {
     "data": {
      "image/png": "[encoded data removed]",
      "text/plain": [
       "<Figure size 504x504 with 2 Axes>"
      ]
     },
     "metadata": {
      "needs_background": "light"
     },
     "output_type": "display_data"
    }
   ],
   "source": [
    "plt.figure(figsize=(7,7))\n",
    "plt.subplot(1,2,1)\n",
    "plt.title(\"Orignal Image\")\n",
    "plt.imshow(image,cmap = 'gray')\n",
    "plt.subplot(1,2,2)\n",
    "plt.title('Highlighted Image')\n",
    "plt.imshow(image_grown,cmap='gray')"
   ]
  },
  {
   "cell_type": "code",
   "execution_count": 37,
   "metadata": {},
   "outputs": [],
   "source": [
    "from skimage import io\n",
    "from skimage.color import rgb2gray"
   ]
  },
  {
   "cell_type": "code",
   "execution_count": 74,
   "metadata": {},
   "outputs": [
    {
     "data": {
      "text/plain": [
       "<matplotlib.image.AxesImage at 0x1c142a24220>"
      ]
     },
     "execution_count": 74,
     "metadata": {},
     "output_type": "execute_result"
    },
    {
     "data": {
      "image/png": "[encoded data removed]",
      "text/plain": [
       "<Figure size 432x288 with 1 Axes>"
      ]
     },
     "metadata": {
      "needs_background": "light"
     },
     "output_type": "display_data"
    }
   ],
   "source": [
    "image = io.imread('lenna_grey.jpg')\n",
    "image = 255*rgb2gray(image)\n",
    "image = image[0:50,0:50]\n",
    "plt.imshow(image,cmap=\"gray\")"
   ]
  },
  {
   "cell_type": "code",
   "execution_count": 75,
   "metadata": {},
   "outputs": [],
   "source": [
    "mx = np.max(np.max(image))\n",
    "[rows,cols]=image.shape"
   ]
  },
  {
   "cell_type": "code",
   "execution_count": 76,
   "metadata": {},
   "outputs": [],
   "source": [
    "seed = [5,10]\n",
    "t=5\n",
    "img_seg = np.zeros(image.shape)\n",
    "region_grow(image,img_seg,t,seed)\n",
    "img_seg = 255*img_seg"
   ]
  },
  {
   "cell_type": "code",
   "execution_count": 77,
   "metadata": {},
   "outputs": [
    {
     "data": {
      "text/plain": [
       "<matplotlib.image.AxesImage at 0x1c142b12670>"
      ]
     },
     "execution_count": 77,
     "metadata": {},
     "output_type": "execute_result"
    },
    {
     "data": {
      "image/png": "[encoded data removed]",
      "text/plain": [
       "<Figure size 504x504 with 2 Axes>"
      ]
     },
     "metadata": {
      "needs_background": "light"
     },
     "output_type": "display_data"
    }
   ],
   "source": [
    "plt.figure(figsize=(7,7))\n",
    "plt.subplot(1,2,1)\n",
    "plt.title(\"Orignal Image\")\n",
    "plt.imshow(image,cmap = 'gray')\n",
    "plt.subplot(1,2,2)\n",
    "plt.title('Segmented Image')\n",
    "plt.imshow(img_seg,cmap='gray')"
   ]
  },
  {
   "cell_type": "code",
   "execution_count": 78,
   "metadata": {},
   "outputs": [],
   "source": [
    "image_grown = image.copy()\n",
    "rows,cols = image.shape"
   ]
  },
  {
   "cell_type": "code",
   "execution_count": 79,
   "metadata": {},
   "outputs": [],
   "source": [
    "for r in range(rows):\n",
    "    for c in range(cols):\n",
    "        if(img_seg[r,c]==255):\n",
    "            image_grown[r,c]=mx\n",
    "            # here we took mx as segmented image was binary so 1 is white but our orignal image is 8 bit gray so\n",
    "            # if we take = 1 then pixel will be black but we want white so we take mx\n"
   ]
  },
  {
   "cell_type": "code",
   "execution_count": 80,
   "metadata": {},
   "outputs": [
    {
     "data": {
      "text/plain": [
       "<matplotlib.image.AxesImage at 0x1c142bb65b0>"
      ]
     },
     "execution_count": 80,
     "metadata": {},
     "output_type": "execute_result"
    },
    {
     "data": {
      "image/png": "[encoded data removed]",
      "text/plain": [
       "<Figure size 504x504 with 2 Axes>"
      ]
     },
     "metadata": {
      "needs_background": "light"
     },
     "output_type": "display_data"
    }
   ],
   "source": [
    "plt.figure(figsize=(7,7))\n",
    "plt.subplot(1,2,1)\n",
    "plt.title(\"Orignal Image\")\n",
    "plt.imshow(image,cmap = 'gray')\n",
    "plt.subplot(1,2,2)\n",
    "plt.title('Highlighted Image')\n",
    "plt.imshow(image_grown,cmap='gray')"
   ]
  },
  {
   "cell_type": "markdown",
   "metadata": {},
   "source": [
    "Conclusion : Region growing is used to segment the obj with given seed value and location of seed is within the obj itself.\n",
    "Region grwoing method is applied on both cases test cases as well as given image."
   ]
  },
  {
   "cell_type": "code",
   "execution_count": null,
   "metadata": {},
   "outputs": [],
   "source": []
  }
 ],
 "metadata": {
  "kernelspec": {
   "display_name": "Python 3",
   "language": "python",
   "name": "python3"
  },
  "language_info": {
   "codemirror_mode": {
    "name": "ipython",
    "version": 3
   },
   "file_extension": ".py",
   "mimetype": "text/x-python",
   "name": "python",
   "nbconvert_exporter": "python",
   "pygments_lexer": "ipython3",
   "version": "3.8.5"
  }
 },
 "nbformat": 4,
 "nbformat_minor": 4
}
